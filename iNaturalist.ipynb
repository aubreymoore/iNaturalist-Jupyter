{
 "cells": [
  {
   "cell_type": "code",
   "execution_count": 26,
   "metadata": {
    "scrolled": false
   },
   "outputs": [
    {
     "name": "stdout",
     "output_type": "stream",
     "text": [
      "Retrieving page  1\n",
      "Results:  417 ,  13.9  pages total\n",
      "Retrieving page  2\n",
      "Retrieving page  3\n",
      "Retrieving page  4\n",
      "Retrieving page  5\n",
      "Retrieving page  6\n",
      "Retrieving page  7\n",
      "Retrieving page  8\n",
      "Retrieving page  9\n",
      "Retrieving page  10\n",
      "Retrieving page  11\n",
      "Retrieving page  12\n",
      "Retrieving page  13\n",
      "Retrieving page  14\n",
      "Retrieving page  15\n",
      "no more results, stopping\n"
     ]
    }
   ],
   "source": [
    "import requests\n",
    "import matplotlib\n",
    "import pandas\n",
    "from urllib.parse import urlencode\n",
    "import json\n",
    "\n",
    "# Helpful site: https://api.inaturalist.org/v1/docs/#!/Observations/get_observations\n",
    "# look for the taxon ids and place ids in the urls on the web site.\n",
    "\n",
    "q = {\n",
    "    \"taxon_id\": 36514, # green anole\n",
    "    \"d1\": \"2016-01-01\",\n",
    "    \"d2\": \"2018-06-30\",\n",
    "    \"order\": \"desc\",\n",
    "    \"order_by\": \"created_at\",\n",
    "    \"place_id\": 30, # north carolina\n",
    "}\n",
    "url = \"https://api.inaturalist.org/v1/observations?\"\n",
    "\n",
    "z = pandas.DataFrame()\n",
    "\n",
    "page = 1\n",
    "while True:\n",
    "    q['page'] = page\n",
    "    r = requests.get(url, params = q)\n",
    "    \n",
    "    results = r.json()[\"results\"]\n",
    "    z = pandas.concat([z, pandas.DataFrame(r.json()[\"results\"])])\n",
    "\n",
    "    if r.json()[\"results\"] == []:\n",
    "        print(\"no more results, stopping\")\n",
    "        break\n",
    "    if page > 999:\n",
    "        break\n",
    "        \n",
    "    if page == 1:\n",
    "        num_pages = int(r.json()[\"total_results\"] / r.json()[\"per_page\"])+1\n",
    "        print(\"Results: \", r.json()[\"total_results\"], \", \", num_pages, \" pages total\")\n",
    "    print(\"Retrieving page \", page)\n",
    "    page += 1\n",
    "\n",
    "z['created_at'] = pandas.to_datetime(z['created_at'])\n",
    "z = z.set_index('created_at')\n",
    "\n",
    "zz = z[\"uri\"].groupby(pandas.Grouper(freq='M')).count()\n",
    "zz.plot()"
   ]
  },
  {
   "cell_type": "code",
   "execution_count": 25,
   "metadata": {},
   "outputs": [
    {
     "data": {
      "text/plain": [
       "<matplotlib.axes._subplots.AxesSubplot at 0x11ab3b3c8>"
      ]
     },
     "execution_count": 25,
     "metadata": {},
     "output_type": "execute_result"
    },
    {
     "data": {
      "image/png": "[encoded data removed]",
      "text/plain": [
       "<Figure size 432x288 with 1 Axes>"
      ]
     },
     "metadata": {},
     "output_type": "display_data"
    }
   ],
   "source": []
  },
  {
   "cell_type": "code",
   "execution_count": null,
   "metadata": {},
   "outputs": [],
   "source": []
  }
 ],
 "metadata": {
  "kernelspec": {
   "display_name": "Python 3",
   "language": "python",
   "name": "python3"
  },
  "language_info": {
   "codemirror_mode": {
    "name": "ipython",
    "version": 3
   },
   "file_extension": ".py",
   "mimetype": "text/x-python",
   "name": "python",
   "nbconvert_exporter": "python",
   "pygments_lexer": "ipython3",
   "version": "3.6.4"
  }
 },
 "nbformat": 4,
 "nbformat_minor": 2
}
